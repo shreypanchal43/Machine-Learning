{
 "cells": [
  {
   "cell_type": "code",
   "execution_count": 1,
   "metadata": {},
   "outputs": [],
   "source": [
    "import numpy as np\n",
    "import pandas as pd\n",
    "\n",
    "from sklearn.datasets import make_classification\n",
    "from sklearn.model_selection import train_test_split\n",
    "from sklearn.metrics import roc_curve, roc_auc_score\n",
    "from sklearn.ensemble import RandomForestClassifier, AdaBoostClassifier\n",
    "from sklearn.linear_model import LogisticRegression\n",
    "from sklearn.neighbors import KNeighborsClassifier\n",
    "\n",
    "import matplotlib.pyplot as plt\n",
    "import seaborn as sns"
   ]
  },
  {
   "cell_type": "code",
   "execution_count": 2,
   "metadata": {},
   "outputs": [],
   "source": [
    "x, y = make_classification(n_samples=2000, n_classes=2, weights=[1,1], random_state=57)"
   ]
  },
  {
   "cell_type": "code",
   "execution_count": 3,
   "metadata": {},
   "outputs": [],
   "source": [
    "x_train, x_test, y_train, y_test = train_test_split(x, y, test_size=0.2, random_state=57)"
   ]
  },
  {
   "cell_type": "code",
   "execution_count": 4,
   "metadata": {},
   "outputs": [
    {
     "name": "stdout",
     "output_type": "stream",
     "text": [
      "1.0\n",
      "0.935429386447803\n"
     ]
    }
   ],
   "source": [
    "model1 = RandomForestClassifier()\n",
    "model1.fit(x_train, y_train)\n",
    "rf_ytrain_pred = model1.predict_proba(x_train)\n",
    "rf_ytest_pred = model1.predict_proba(x_test)\n",
    "\n",
    "print(roc_auc_score(y_train, rf_ytrain_pred[:,1]))\n",
    "print(roc_auc_score(y_test, rf_ytest_pred[:,1]))"
   ]
  },
  {
   "cell_type": "raw",
   "metadata": {},
   "source": [
    "    rf"
   ]
  },
  {
   "cell_type": "code",
   "execution_count": 5,
   "metadata": {},
   "outputs": [
    {
     "name": "stdout",
     "output_type": "stream",
     "text": [
      "0.9651121000556281\n",
      "0.9313507156440797\n"
     ]
    }
   ],
   "source": [
    "model2 = AdaBoostClassifier()\n",
    "model2.fit(x_train, y_train)\n",
    "ada_ytrain_pred = model2.predict_proba(x_train)\n",
    "ada_ytest_pred = model2.predict_proba(x_test)\n",
    "\n",
    "print(roc_auc_score(y_train, ada_ytrain_pred[:,1]))\n",
    "print(roc_auc_score(y_test, ada_ytest_pred[:,1]))"
   ]
  },
  {
   "cell_type": "code",
   "execution_count": 6,
   "metadata": {},
   "outputs": [
    {
     "name": "stdout",
     "output_type": "stream",
     "text": [
      "0.870970867111275\n",
      "0.905565008507657\n"
     ]
    }
   ],
   "source": [
    "model3 = LogisticRegression()\n",
    "model3.fit(x_train, y_train)\n",
    "lr_ytrain_pred = model3.predict_proba(x_train)\n",
    "lr_ytest_pred = model3.predict_proba(x_test)\n",
    "\n",
    "print(roc_auc_score(y_train, lr_ytrain_pred[:,1]))\n",
    "print(roc_auc_score(y_test, lr_ytest_pred[:,1]))"
   ]
  },
  {
   "cell_type": "code",
   "execution_count": 7,
   "metadata": {},
   "outputs": [
    {
     "name": "stdout",
     "output_type": "stream",
     "text": [
      "0.9273982599021195\n",
      "0.8273571214092683\n"
     ]
    }
   ],
   "source": [
    "model4 = KNeighborsClassifier()\n",
    "model4.fit(x_train, y_train)\n",
    "kn_ytrain_pred = model4.predict_proba(x_train)\n",
    "kn_ytest_pred = model4.predict_proba(x_test)\n",
    "\n",
    "print(roc_auc_score(y_train, kn_ytrain_pred[:,1]))\n",
    "print(roc_auc_score(y_test, kn_ytest_pred[:,1]))"
   ]
  },
  {
   "cell_type": "code",
   "execution_count": 9,
   "metadata": {},
   "outputs": [
    {
     "name": "stdout",
     "output_type": "stream",
     "text": [
      "Ensemble test roc-auc: 0.9295866279651687\n"
     ]
    }
   ],
   "source": [
    "pred = []\n",
    "for model in [model1, model2, model3, model4]:\n",
    "    pred.append(pd.Series(model.predict_proba(x_test)[:,1]))\n",
    "final_prediction=pd.concat(pred,axis=1).mean(axis=1)\n",
    "print('Ensemble test roc-auc: {}'.format(roc_auc_score(y_test,final_prediction)))"
   ]
  },
  {
   "cell_type": "code",
   "execution_count": 10,
   "metadata": {},
   "outputs": [
    {
     "data": {
      "text/plain": [
       "0      0.884608\n",
       "1      0.735486\n",
       "2      0.246280\n",
       "3      0.892422\n",
       "4      0.225889\n",
       "         ...   \n",
       "395    0.746250\n",
       "396    0.753063\n",
       "397    0.775506\n",
       "398    0.722309\n",
       "399    0.388763\n",
       "Length: 400, dtype: float64"
      ]
     },
     "execution_count": 10,
     "metadata": {},
     "output_type": "execute_result"
    }
   ],
   "source": [
    "final_prediction"
   ]
  },
  {
   "cell_type": "code",
   "execution_count": 11,
   "metadata": {},
   "outputs": [
    {
     "data": {
      "text/plain": [
       "array([1.9510497 , 0.9510497 , 0.85661058, 0.85647316, 0.82365422,\n",
       "       0.8229958 , 0.7780465 , 0.77550572, 0.74652735, 0.74624951,\n",
       "       0.74057477, 0.73702976, 0.70282399, 0.70222999, 0.68532855,\n",
       "       0.68391635, 0.67119607, 0.66584025, 0.66185876, 0.6577287 ,\n",
       "       0.65109586, 0.64982616, 0.6424384 , 0.62665067, 0.59370909,\n",
       "       0.59250975, 0.5919256 , 0.59168865, 0.59093059, 0.5906023 ,\n",
       "       0.57292258, 0.5710292 , 0.5587661 , 0.55510188, 0.55252834,\n",
       "       0.54967661, 0.5235132 , 0.52021658, 0.51069815, 0.49759967,\n",
       "       0.49664051, 0.49595386, 0.49106623, 0.49034333, 0.48994788,\n",
       "       0.48712553, 0.48704568, 0.47597688, 0.47109254, 0.47008772,\n",
       "       0.46398477, 0.46144095, 0.45245884, 0.45179509, 0.45155946,\n",
       "       0.45015213, 0.44857946, 0.4467895 , 0.44183615, 0.44085632,\n",
       "       0.43885613, 0.43351496, 0.41071034, 0.41049077, 0.4100384 ,\n",
       "       0.40586896, 0.40431491, 0.38170823, 0.37829617, 0.3713122 ,\n",
       "       0.37083004, 0.36501392, 0.35766643, 0.32834549, 0.32592796,\n",
       "       0.31777095, 0.31726359, 0.31510652, 0.31231428, 0.30841315,\n",
       "       0.30826192, 0.283906  , 0.28100759, 0.27912388, 0.27873027,\n",
       "       0.26951629, 0.26297311, 0.25488159, 0.25477043, 0.22955007,\n",
       "       0.22866043, 0.21652898, 0.21612603, 0.18348591, 0.18138881,\n",
       "       0.1286525 ])"
      ]
     },
     "execution_count": 11,
     "metadata": {},
     "output_type": "execute_result"
    }
   ],
   "source": [
    "fpr, tpr, thresholds = roc_curve(y_test, final_prediction)\n",
    "thresholds"
   ]
  },
  {
   "cell_type": "code",
   "execution_count": 12,
   "metadata": {},
   "outputs": [],
   "source": [
    "def plot_roc_curve(fpr, tpr):\n",
    "    plt.plot(fpr, tpr, color='orange', label='ROC')\n",
    "    plt.plot([0, 1], [0, 1], color='darkblue', linestyle='--')\n",
    "    plt.xlabel('False Positive Rate')\n",
    "    plt.ylabel('True Positive Rate')\n",
    "    plt.title('Receiver Operating Characteristic (ROC) Curve')\n",
    "    plt.legend()\n",
    "    plt.show()"
   ]
  },
  {
   "cell_type": "code",
   "execution_count": 13,
   "metadata": {},
   "outputs": [
    {
     "data": {
      "image/png": "[encoded data removed]",
      "text/plain": [
       "<Figure size 432x288 with 1 Axes>"
      ]
     },
     "metadata": {
      "needs_background": "light"
     },
     "output_type": "display_data"
    }
   ],
   "source": [
    "plot_roc_curve(fpr, tpr)"
   ]
  },
  {
   "cell_type": "code",
   "execution_count": 14,
   "metadata": {},
   "outputs": [
    {
     "data": {
      "text/html": [
       "<div>\n",
       "<style scoped>\n",
       "    .dataframe tbody tr th:only-of-type {\n",
       "        vertical-align: middle;\n",
       "    }\n",
       "\n",
       "    .dataframe tbody tr th {\n",
       "        vertical-align: top;\n",
       "    }\n",
       "\n",
       "    .dataframe thead th {\n",
       "        text-align: right;\n",
       "    }\n",
       "</style>\n",
       "<table border=\"1\" class=\"dataframe\">\n",
       "  <thead>\n",
       "    <tr style=\"text-align: right;\">\n",
       "      <th></th>\n",
       "      <th>thresholds</th>\n",
       "      <th>accuracy</th>\n",
       "    </tr>\n",
       "  </thead>\n",
       "  <tbody>\n",
       "    <tr>\n",
       "      <th>63</th>\n",
       "      <td>0.410491</td>\n",
       "      <td>0.8675</td>\n",
       "    </tr>\n",
       "    <tr>\n",
       "      <th>37</th>\n",
       "      <td>0.520217</td>\n",
       "      <td>0.8650</td>\n",
       "    </tr>\n",
       "    <tr>\n",
       "      <th>65</th>\n",
       "      <td>0.405869</td>\n",
       "      <td>0.8650</td>\n",
       "    </tr>\n",
       "    <tr>\n",
       "      <th>64</th>\n",
       "      <td>0.410038</td>\n",
       "      <td>0.8650</td>\n",
       "    </tr>\n",
       "    <tr>\n",
       "      <th>62</th>\n",
       "      <td>0.410710</td>\n",
       "      <td>0.8650</td>\n",
       "    </tr>\n",
       "  </tbody>\n",
       "</table>\n",
       "</div>"
      ],
      "text/plain": [
       "    thresholds  accuracy\n",
       "63    0.410491    0.8675\n",
       "37    0.520217    0.8650\n",
       "65    0.405869    0.8650\n",
       "64    0.410038    0.8650\n",
       "62    0.410710    0.8650"
      ]
     },
     "execution_count": 14,
     "metadata": {},
     "output_type": "execute_result"
    }
   ],
   "source": [
    "from sklearn.metrics import accuracy_score\n",
    "accuracy_ls = []\n",
    "for thres in thresholds:\n",
    "    y_pred = np.where(final_prediction>thres,1,0)\n",
    "    accuracy_ls.append(accuracy_score(y_test, y_pred, normalize=True))\n",
    "    \n",
    "accuracy_ls = pd.concat([pd.Series(thresholds), pd.Series(accuracy_ls)],\n",
    "                        axis=1)\n",
    "accuracy_ls.columns = ['thresholds', 'accuracy']\n",
    "accuracy_ls.sort_values(by='accuracy', ascending=False, inplace=True)\n",
    "accuracy_ls.head()"
   ]
  },
  {
   "cell_type": "code",
   "execution_count": null,
   "metadata": {},
   "outputs": [],
   "source": []
  }
 ],
 "metadata": {
  "kernelspec": {
   "display_name": "Python 3",
   "language": "python",
   "name": "python3"
  },
  "language_info": {
   "codemirror_mode": {
    "name": "ipython",
    "version": 3
   },
   "file_extension": ".py",
   "mimetype": "text/x-python",
   "name": "python",
   "nbconvert_exporter": "python",
   "pygments_lexer": "ipython3",
   "version": "3.7.6"
  }
 },
 "nbformat": 4,
 "nbformat_minor": 4
}
